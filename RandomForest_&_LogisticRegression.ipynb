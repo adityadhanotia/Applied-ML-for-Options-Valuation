{
 "cells": [
  {
   "cell_type": "code",
   "execution_count": 1,
   "id": "45b1caaf",
   "metadata": {},
   "outputs": [],
   "source": [
    "import numpy as np\n",
    "import pandas as pd\n",
    "import sklearn\n",
    "import matplotlib.pyplot as plt\n",
    "from sklearn.model_selection import train_test_split\n",
    "from sklearn.ensemble import RandomForestRegressor\n",
    "from sklearn.ensemble import RandomForestClassifier\n",
    "from sklearn.metrics import mean_squared_error\n",
    "from sklearn.metrics import r2_score\n",
    "from sklearn.metrics import accuracy_score\n",
    "from sklearn.impute import KNNImputer\n",
    "from sklearn.metrics import confusion_matrix\n",
    "from sklearn.linear_model import LogisticRegression\n",
    "from sklearn.metrics import roc_curve, auc\n",
    "from sklearn.preprocessing import StandardScaler\n",
    "import matplotlib.pyplot as plt\n",
    "from sklearn.neighbors import KNeighborsClassifier\n",
    "from sklearn.metrics import roc_auc_score\n"
   ]
  },
  {
   "cell_type": "code",
   "execution_count": 2,
   "id": "3637aebc",
   "metadata": {},
   "outputs": [
    {
     "data": {
      "text/html": [
       "<div>\n",
       "<style scoped>\n",
       "    .dataframe tbody tr th:only-of-type {\n",
       "        vertical-align: middle;\n",
       "    }\n",
       "\n",
       "    .dataframe tbody tr th {\n",
       "        vertical-align: top;\n",
       "    }\n",
       "\n",
       "    .dataframe thead th {\n",
       "        text-align: right;\n",
       "    }\n",
       "</style>\n",
       "<table border=\"1\" class=\"dataframe\">\n",
       "  <thead>\n",
       "    <tr style=\"text-align: right;\">\n",
       "      <th></th>\n",
       "      <th>Value</th>\n",
       "      <th>S</th>\n",
       "      <th>K</th>\n",
       "      <th>tau</th>\n",
       "      <th>r</th>\n",
       "      <th>BS</th>\n",
       "    </tr>\n",
       "  </thead>\n",
       "  <tbody>\n",
       "    <tr>\n",
       "      <th>0</th>\n",
       "      <td>21.670404</td>\n",
       "      <td>431.623898</td>\n",
       "      <td>420.0</td>\n",
       "      <td>0.341270</td>\n",
       "      <td>0.03013</td>\n",
       "      <td>Under</td>\n",
       "    </tr>\n",
       "    <tr>\n",
       "      <th>1</th>\n",
       "      <td>0.125000</td>\n",
       "      <td>427.015526</td>\n",
       "      <td>465.0</td>\n",
       "      <td>0.166667</td>\n",
       "      <td>0.03126</td>\n",
       "      <td>Over</td>\n",
       "    </tr>\n",
       "    <tr>\n",
       "      <th>2</th>\n",
       "      <td>20.691244</td>\n",
       "      <td>427.762336</td>\n",
       "      <td>415.0</td>\n",
       "      <td>0.265873</td>\n",
       "      <td>0.03116</td>\n",
       "      <td>Under</td>\n",
       "    </tr>\n",
       "    <tr>\n",
       "      <th>3</th>\n",
       "      <td>1.035002</td>\n",
       "      <td>451.711658</td>\n",
       "      <td>460.0</td>\n",
       "      <td>0.063492</td>\n",
       "      <td>0.02972</td>\n",
       "      <td>Over</td>\n",
       "    </tr>\n",
       "    <tr>\n",
       "      <th>4</th>\n",
       "      <td>39.553020</td>\n",
       "      <td>446.718974</td>\n",
       "      <td>410.0</td>\n",
       "      <td>0.166667</td>\n",
       "      <td>0.02962</td>\n",
       "      <td>Under</td>\n",
       "    </tr>\n",
       "  </tbody>\n",
       "</table>\n",
       "</div>"
      ],
      "text/plain": [
       "       Value           S      K       tau        r     BS\n",
       "0  21.670404  431.623898  420.0  0.341270  0.03013  Under\n",
       "1   0.125000  427.015526  465.0  0.166667  0.03126   Over\n",
       "2  20.691244  427.762336  415.0  0.265873  0.03116  Under\n",
       "3   1.035002  451.711658  460.0  0.063492  0.02972   Over\n",
       "4  39.553020  446.718974  410.0  0.166667  0.02962  Under"
      ]
     },
     "execution_count": 2,
     "metadata": {},
     "output_type": "execute_result"
    }
   ],
   "source": [
    "train_data = pd.read_csv('option_train.csv')\n",
    "train_data.head()"
   ]
  },
  {
   "cell_type": "code",
   "execution_count": 3,
   "id": "01176b64",
   "metadata": {},
   "outputs": [
    {
     "data": {
      "text/plain": [
       "Under    946\n",
       "Over     734\n",
       "Name: BS, dtype: int64"
      ]
     },
     "execution_count": 3,
     "metadata": {},
     "output_type": "execute_result"
    }
   ],
   "source": [
    "train_data['BS'].value_counts()"
   ]
  },
  {
   "cell_type": "code",
   "execution_count": 4,
   "id": "413fa51d",
   "metadata": {},
   "outputs": [
    {
     "data": {
      "text/html": [
       "<div>\n",
       "<style scoped>\n",
       "    .dataframe tbody tr th:only-of-type {\n",
       "        vertical-align: middle;\n",
       "    }\n",
       "\n",
       "    .dataframe tbody tr th {\n",
       "        vertical-align: top;\n",
       "    }\n",
       "\n",
       "    .dataframe thead th {\n",
       "        text-align: right;\n",
       "    }\n",
       "</style>\n",
       "<table border=\"1\" class=\"dataframe\">\n",
       "  <thead>\n",
       "    <tr style=\"text-align: right;\">\n",
       "      <th></th>\n",
       "      <th>Value</th>\n",
       "      <th>S</th>\n",
       "      <th>K</th>\n",
       "      <th>tau</th>\n",
       "      <th>r</th>\n",
       "    </tr>\n",
       "  </thead>\n",
       "  <tbody>\n",
       "    <tr>\n",
       "      <th>count</th>\n",
       "      <td>1678.000000</td>\n",
       "      <td>1679.000000</td>\n",
       "      <td>1678.000000</td>\n",
       "      <td>1679.000000</td>\n",
       "      <td>1680.000000</td>\n",
       "    </tr>\n",
       "    <tr>\n",
       "      <th>mean</th>\n",
       "      <td>15.068709</td>\n",
       "      <td>464.402535</td>\n",
       "      <td>438.241955</td>\n",
       "      <td>0.437519</td>\n",
       "      <td>0.030235</td>\n",
       "    </tr>\n",
       "    <tr>\n",
       "      <th>std</th>\n",
       "      <td>14.040023</td>\n",
       "      <td>973.652179</td>\n",
       "      <td>23.408989</td>\n",
       "      <td>7.057555</td>\n",
       "      <td>0.000557</td>\n",
       "    </tr>\n",
       "    <tr>\n",
       "      <th>min</th>\n",
       "      <td>0.125000</td>\n",
       "      <td>0.000000</td>\n",
       "      <td>375.000000</td>\n",
       "      <td>0.003968</td>\n",
       "      <td>0.029510</td>\n",
       "    </tr>\n",
       "    <tr>\n",
       "      <th>25%</th>\n",
       "      <td>2.255001</td>\n",
       "      <td>433.863864</td>\n",
       "      <td>420.000000</td>\n",
       "      <td>0.119048</td>\n",
       "      <td>0.029820</td>\n",
       "    </tr>\n",
       "    <tr>\n",
       "      <th>50%</th>\n",
       "      <td>11.190967</td>\n",
       "      <td>442.634081</td>\n",
       "      <td>440.000000</td>\n",
       "      <td>0.202381</td>\n",
       "      <td>0.030130</td>\n",
       "    </tr>\n",
       "    <tr>\n",
       "      <th>75%</th>\n",
       "      <td>25.747434</td>\n",
       "      <td>447.320414</td>\n",
       "      <td>455.000000</td>\n",
       "      <td>0.285714</td>\n",
       "      <td>0.030540</td>\n",
       "    </tr>\n",
       "    <tr>\n",
       "      <th>max</th>\n",
       "      <td>60.149367</td>\n",
       "      <td>40333.000000</td>\n",
       "      <td>500.000000</td>\n",
       "      <td>250.000000</td>\n",
       "      <td>0.031880</td>\n",
       "    </tr>\n",
       "  </tbody>\n",
       "</table>\n",
       "</div>"
      ],
      "text/plain": [
       "             Value             S            K          tau            r\n",
       "count  1678.000000   1679.000000  1678.000000  1679.000000  1680.000000\n",
       "mean     15.068709    464.402535   438.241955     0.437519     0.030235\n",
       "std      14.040023    973.652179    23.408989     7.057555     0.000557\n",
       "min       0.125000      0.000000   375.000000     0.003968     0.029510\n",
       "25%       2.255001    433.863864   420.000000     0.119048     0.029820\n",
       "50%      11.190967    442.634081   440.000000     0.202381     0.030130\n",
       "75%      25.747434    447.320414   455.000000     0.285714     0.030540\n",
       "max      60.149367  40333.000000   500.000000   250.000000     0.031880"
      ]
     },
     "execution_count": 4,
     "metadata": {},
     "output_type": "execute_result"
    }
   ],
   "source": [
    "train_data.describe()"
   ]
  },
  {
   "cell_type": "code",
   "execution_count": 5,
   "id": "e37ddd39",
   "metadata": {},
   "outputs": [
    {
     "data": {
      "text/plain": [
       "(1680, 6)"
      ]
     },
     "execution_count": 5,
     "metadata": {},
     "output_type": "execute_result"
    }
   ],
   "source": [
    "train_data.shape"
   ]
  },
  {
   "cell_type": "code",
   "execution_count": 6,
   "id": "3ca7e22e",
   "metadata": {},
   "outputs": [
    {
     "data": {
      "text/html": [
       "<div>\n",
       "<style scoped>\n",
       "    .dataframe tbody tr th:only-of-type {\n",
       "        vertical-align: middle;\n",
       "    }\n",
       "\n",
       "    .dataframe tbody tr th {\n",
       "        vertical-align: top;\n",
       "    }\n",
       "\n",
       "    .dataframe thead th {\n",
       "        text-align: right;\n",
       "    }\n",
       "</style>\n",
       "<table border=\"1\" class=\"dataframe\">\n",
       "  <thead>\n",
       "    <tr style=\"text-align: right;\">\n",
       "      <th></th>\n",
       "      <th>0</th>\n",
       "      <th>1</th>\n",
       "      <th>2</th>\n",
       "      <th>3</th>\n",
       "      <th>4</th>\n",
       "      <th>5</th>\n",
       "    </tr>\n",
       "  </thead>\n",
       "  <tbody>\n",
       "    <tr>\n",
       "      <th>count</th>\n",
       "      <td>1679.000000</td>\n",
       "      <td>1679.000000</td>\n",
       "      <td>1679.000000</td>\n",
       "      <td>1679.000000</td>\n",
       "      <td>1679.000000</td>\n",
       "      <td>1679.000000</td>\n",
       "    </tr>\n",
       "    <tr>\n",
       "      <th>mean</th>\n",
       "      <td>15.092353</td>\n",
       "      <td>440.898582</td>\n",
       "      <td>438.218638</td>\n",
       "      <td>0.202018</td>\n",
       "      <td>0.030235</td>\n",
       "      <td>0.435821</td>\n",
       "    </tr>\n",
       "    <tr>\n",
       "      <th>std</th>\n",
       "      <td>14.029169</td>\n",
       "      <td>7.520612</td>\n",
       "      <td>23.381921</td>\n",
       "      <td>0.099641</td>\n",
       "      <td>0.000557</td>\n",
       "      <td>0.495420</td>\n",
       "    </tr>\n",
       "    <tr>\n",
       "      <th>min</th>\n",
       "      <td>0.125000</td>\n",
       "      <td>425.472331</td>\n",
       "      <td>375.000000</td>\n",
       "      <td>0.003968</td>\n",
       "      <td>0.029510</td>\n",
       "      <td>0.000000</td>\n",
       "    </tr>\n",
       "    <tr>\n",
       "      <th>25%</th>\n",
       "      <td>2.255002</td>\n",
       "      <td>433.875313</td>\n",
       "      <td>420.000000</td>\n",
       "      <td>0.119048</td>\n",
       "      <td>0.029820</td>\n",
       "      <td>0.000000</td>\n",
       "    </tr>\n",
       "    <tr>\n",
       "      <th>50%</th>\n",
       "      <td>11.250000</td>\n",
       "      <td>442.525366</td>\n",
       "      <td>438.210872</td>\n",
       "      <td>0.202381</td>\n",
       "      <td>0.030130</td>\n",
       "      <td>0.000000</td>\n",
       "    </tr>\n",
       "    <tr>\n",
       "      <th>75%</th>\n",
       "      <td>25.745904</td>\n",
       "      <td>447.320414</td>\n",
       "      <td>455.000000</td>\n",
       "      <td>0.285714</td>\n",
       "      <td>0.030540</td>\n",
       "      <td>1.000000</td>\n",
       "    </tr>\n",
       "    <tr>\n",
       "      <th>max</th>\n",
       "      <td>60.149367</td>\n",
       "      <td>455.880619</td>\n",
       "      <td>500.000000</td>\n",
       "      <td>0.392857</td>\n",
       "      <td>0.031880</td>\n",
       "      <td>1.000000</td>\n",
       "    </tr>\n",
       "  </tbody>\n",
       "</table>\n",
       "</div>"
      ],
      "text/plain": [
       "                 0            1            2            3            4  \\\n",
       "count  1679.000000  1679.000000  1679.000000  1679.000000  1679.000000   \n",
       "mean     15.092353   440.898582   438.218638     0.202018     0.030235   \n",
       "std      14.029169     7.520612    23.381921     0.099641     0.000557   \n",
       "min       0.125000   425.472331   375.000000     0.003968     0.029510   \n",
       "25%       2.255002   433.875313   420.000000     0.119048     0.029820   \n",
       "50%      11.250000   442.525366   438.210872     0.202381     0.030130   \n",
       "75%      25.745904   447.320414   455.000000     0.285714     0.030540   \n",
       "max      60.149367   455.880619   500.000000     0.392857     0.031880   \n",
       "\n",
       "                 5  \n",
       "count  1679.000000  \n",
       "mean      0.435821  \n",
       "std       0.495420  \n",
       "min       0.000000  \n",
       "25%       0.000000  \n",
       "50%       0.000000  \n",
       "75%       1.000000  \n",
       "max       1.000000  "
      ]
     },
     "execution_count": 6,
     "metadata": {},
     "output_type": "execute_result"
    }
   ],
   "source": [
    "train_data = train_data[train_data['S'].notna()]\n",
    "\n",
    "df1 = train_data.copy()\n",
    "\n",
    "#train_data.rename(columns = {0:'Value',1:'S',2:'K',3:'tau', 4:'r', 5:'BS'})\n",
    "\n",
    "# Convert the target variable to binary form\n",
    "train_data['BS'] = train_data['BS'].replace({'Under': 0, 'Over': 1})\n",
    "\n",
    "train_data.loc[train_data['S'] == 40333] = None\n",
    "\n",
    "train_data.loc[train_data['S'] == 0] = None\n",
    "\n",
    "train_data.loc[train_data['tau'] == 250] = None\n",
    "\n",
    "train_data.loc[train_data['tau'] == 146] = None\n",
    "\n",
    "imputer = KNNImputer(n_neighbors = 5, weights = 'distance', metric = 'nan_euclidean')\n",
    "train_data = pd.DataFrame(imputer.fit_transform(train_data))\n",
    "train_data.describe()"
   ]
  },
  {
   "cell_type": "code",
   "execution_count": 7,
   "id": "7a8d9baa",
   "metadata": {},
   "outputs": [],
   "source": [
    "train_data.rename(columns = {0:'Value',1:'S',2:'K',3:'tau', 4:'r', 5:'BS'}, inplace = True)"
   ]
  },
  {
   "cell_type": "code",
   "execution_count": 8,
   "id": "aa16725c",
   "metadata": {},
   "outputs": [],
   "source": [
    "# train_data = train_data.drop(train_data.loc[train_data['S']==40333].index)\n",
    "# train_data.describe()"
   ]
  },
  {
   "cell_type": "code",
   "execution_count": 9,
   "id": "bd50d7a9",
   "metadata": {},
   "outputs": [],
   "source": [
    "train_data.dropna(inplace=True)"
   ]
  },
  {
   "cell_type": "code",
   "execution_count": 10,
   "id": "4a38bc7e",
   "metadata": {},
   "outputs": [
    {
     "data": {
      "text/plain": [
       "(1679, 6)"
      ]
     },
     "execution_count": 10,
     "metadata": {},
     "output_type": "execute_result"
    }
   ],
   "source": [
    "train_data.shape"
   ]
  },
  {
   "cell_type": "code",
   "execution_count": 11,
   "id": "c3f51552",
   "metadata": {},
   "outputs": [],
   "source": [
    "train_data = train_data.drop(train_data.loc[train_data['S']==40333].index)\n",
    "train_data = train_data.drop(train_data.loc[train_data['S']==0].index)\n",
    "train_data = train_data.drop(train_data.loc[train_data['tau']==250].index)\n",
    "train_data = train_data.drop(train_data.loc[train_data['tau']==146].index)"
   ]
  },
  {
   "cell_type": "code",
   "execution_count": 12,
   "id": "f7e65b2d",
   "metadata": {},
   "outputs": [
    {
     "data": {
      "text/plain": [
       "(1679, 6)"
      ]
     },
     "execution_count": 12,
     "metadata": {},
     "output_type": "execute_result"
    }
   ],
   "source": [
    "train_data.shape"
   ]
  },
  {
   "cell_type": "code",
   "execution_count": 13,
   "id": "fef5640b",
   "metadata": {},
   "outputs": [
    {
     "data": {
      "text/plain": [
       "0.000000    945\n",
       "1.000000    730\n",
       "0.435821      4\n",
       "Name: BS, dtype: int64"
      ]
     },
     "execution_count": 13,
     "metadata": {},
     "output_type": "execute_result"
    }
   ],
   "source": [
    "train_data['BS'].value_counts()"
   ]
  },
  {
   "cell_type": "code",
   "execution_count": 14,
   "id": "94d50ceb",
   "metadata": {},
   "outputs": [],
   "source": [
    "X = train_data[['S','K','tau','r']]\n",
    "y = train_data[['Value']]"
   ]
  },
  {
   "cell_type": "code",
   "execution_count": 15,
   "id": "863e388c",
   "metadata": {},
   "outputs": [],
   "source": [
    "X_train, X_test, y_train, y_test = train_test_split(X, y,test_size=0.30,random_state=10)"
   ]
  },
  {
   "cell_type": "code",
   "execution_count": 16,
   "id": "f1312419",
   "metadata": {},
   "outputs": [
    {
     "name": "stderr",
     "output_type": "stream",
     "text": [
      "C:\\Users\\HP\\AppData\\Local\\Temp\\ipykernel_22360\\2944886666.py:4: DataConversionWarning: A column-vector y was passed when a 1d array was expected. Please change the shape of y to (n_samples,), for example using ravel().\n",
      "  rf = RandomForestRegressor(n_estimators = 30, max_features = 'sqrt', max_depth = 10, random_state = 10).fit(X_train, y_train)\n"
     ]
    }
   ],
   "source": [
    "#regr = RandomForestRegressor(max_depth=2, random_state=0)\n",
    "#regr.fit(X_train, y_train)\n",
    "\n",
    "rf = RandomForestRegressor(n_estimators = 30, max_features = 'sqrt', max_depth = 10, random_state = 10).fit(X_train, y_train)"
   ]
  },
  {
   "cell_type": "code",
   "execution_count": 17,
   "id": "633b5728",
   "metadata": {},
   "outputs": [
    {
     "name": "stdout",
     "output_type": "stream",
     "text": [
      "1.854247705121418\n",
      "0.9908162447366978\n"
     ]
    }
   ],
   "source": [
    "prediction = rf.predict(X_test)\n",
    "mse = mean_squared_error(y_test, prediction)\n",
    "r2 = r2_score(y_test,prediction)\n",
    "print(mse)\n",
    "print(r2)"
   ]
  },
  {
   "cell_type": "code",
   "execution_count": 18,
   "id": "3ae8c1ea",
   "metadata": {},
   "outputs": [
    {
     "data": {
      "text/html": [
       "<div>\n",
       "<style scoped>\n",
       "    .dataframe tbody tr th:only-of-type {\n",
       "        vertical-align: middle;\n",
       "    }\n",
       "\n",
       "    .dataframe tbody tr th {\n",
       "        vertical-align: top;\n",
       "    }\n",
       "\n",
       "    .dataframe thead th {\n",
       "        text-align: right;\n",
       "    }\n",
       "</style>\n",
       "<table border=\"1\" class=\"dataframe\">\n",
       "  <thead>\n",
       "    <tr style=\"text-align: right;\">\n",
       "      <th></th>\n",
       "      <th>Value</th>\n",
       "      <th>S</th>\n",
       "      <th>K</th>\n",
       "      <th>tau</th>\n",
       "      <th>r</th>\n",
       "      <th>BS</th>\n",
       "    </tr>\n",
       "  </thead>\n",
       "  <tbody>\n",
       "    <tr>\n",
       "      <th>0</th>\n",
       "      <td>21.670404</td>\n",
       "      <td>431.623898</td>\n",
       "      <td>420.0</td>\n",
       "      <td>0.341270</td>\n",
       "      <td>0.03013</td>\n",
       "      <td>0</td>\n",
       "    </tr>\n",
       "    <tr>\n",
       "      <th>1</th>\n",
       "      <td>0.125000</td>\n",
       "      <td>427.015526</td>\n",
       "      <td>465.0</td>\n",
       "      <td>0.166667</td>\n",
       "      <td>0.03126</td>\n",
       "      <td>1</td>\n",
       "    </tr>\n",
       "    <tr>\n",
       "      <th>2</th>\n",
       "      <td>20.691244</td>\n",
       "      <td>427.762336</td>\n",
       "      <td>415.0</td>\n",
       "      <td>0.265873</td>\n",
       "      <td>0.03116</td>\n",
       "      <td>0</td>\n",
       "    </tr>\n",
       "    <tr>\n",
       "      <th>3</th>\n",
       "      <td>1.035002</td>\n",
       "      <td>451.711658</td>\n",
       "      <td>460.0</td>\n",
       "      <td>0.063492</td>\n",
       "      <td>0.02972</td>\n",
       "      <td>1</td>\n",
       "    </tr>\n",
       "    <tr>\n",
       "      <th>4</th>\n",
       "      <td>39.553020</td>\n",
       "      <td>446.718974</td>\n",
       "      <td>410.0</td>\n",
       "      <td>0.166667</td>\n",
       "      <td>0.02962</td>\n",
       "      <td>0</td>\n",
       "    </tr>\n",
       "  </tbody>\n",
       "</table>\n",
       "</div>"
      ],
      "text/plain": [
       "       Value           S      K       tau        r  BS\n",
       "0  21.670404  431.623898  420.0  0.341270  0.03013   0\n",
       "1   0.125000  427.015526  465.0  0.166667  0.03126   1\n",
       "2  20.691244  427.762336  415.0  0.265873  0.03116   0\n",
       "3   1.035002  451.711658  460.0  0.063492  0.02972   1\n",
       "4  39.553020  446.718974  410.0  0.166667  0.02962   0"
      ]
     },
     "execution_count": 18,
     "metadata": {},
     "output_type": "execute_result"
    }
   ],
   "source": [
    "train_data['BS'] = pd.factorize(train_data['BS'])[0]\n",
    "train_data.head()"
   ]
  },
  {
   "cell_type": "code",
   "execution_count": 19,
   "id": "9ea2a8cf",
   "metadata": {},
   "outputs": [
    {
     "data": {
      "text/plain": [
       "0    945\n",
       "1    730\n",
       "2      4\n",
       "Name: BS, dtype: int64"
      ]
     },
     "execution_count": 19,
     "metadata": {},
     "output_type": "execute_result"
    }
   ],
   "source": [
    "train_data['BS'].value_counts()"
   ]
  },
  {
   "cell_type": "code",
   "execution_count": 20,
   "id": "46f52e5b",
   "metadata": {},
   "outputs": [],
   "source": [
    "train_data.loc[train_data['BS'] == 2, 'BS'] = 1"
   ]
  },
  {
   "cell_type": "code",
   "execution_count": 21,
   "id": "6cd2314b",
   "metadata": {},
   "outputs": [
    {
     "data": {
      "text/plain": [
       "array([0, 1], dtype=int64)"
      ]
     },
     "execution_count": 21,
     "metadata": {},
     "output_type": "execute_result"
    }
   ],
   "source": [
    "train_data['BS'].unique()"
   ]
  },
  {
   "cell_type": "code",
   "execution_count": 22,
   "id": "96950353",
   "metadata": {},
   "outputs": [],
   "source": [
    "X_cl = train_data[['S','K','tau','r']]\n",
    "y_cl = train_data[['BS']]"
   ]
  },
  {
   "cell_type": "code",
   "execution_count": 23,
   "id": "942d76d3",
   "metadata": {},
   "outputs": [],
   "source": [
    "X_train_cl, X_test_cl, y_train_cl, y_test_cl = train_test_split(X_cl, y_cl,test_size=0.30,random_state=2)"
   ]
  },
  {
   "cell_type": "code",
   "execution_count": 24,
   "id": "988a9715",
   "metadata": {},
   "outputs": [
    {
     "name": "stderr",
     "output_type": "stream",
     "text": [
      "C:\\Users\\HP\\AppData\\Local\\Temp\\ipykernel_22360\\2306825301.py:2: DataConversionWarning: A column-vector y was passed when a 1d array was expected. Please change the shape of y to (n_samples,), for example using ravel().\n",
      "  clf_rf.fit(X_train_cl, y_train_cl)\n"
     ]
    },
    {
     "name": "stdout",
     "output_type": "stream",
     "text": [
      "The classification Accuracy is 0.94\n"
     ]
    }
   ],
   "source": [
    "clf_rf = RandomForestClassifier(random_state=1, n_estimators = 30)\n",
    "clf_rf.fit(X_train_cl, y_train_cl)\n",
    "y_pred_rf = clf_rf.predict(X_test_cl)\n",
    "score_test_rf = accuracy_score(y_test_cl, y_pred_rf)\n",
    "print(\"The classification Accuracy is {}\".format(round(score_test_rf,2)))"
   ]
  },
  {
   "cell_type": "code",
   "execution_count": 25,
   "id": "b2f60098",
   "metadata": {},
   "outputs": [
    {
     "name": "stdout",
     "output_type": "stream",
     "text": [
      "Area Under Curve (AUC) is 0.981967029985797\n"
     ]
    },
    {
     "data": {
      "text/plain": [
       "<Figure size 640x480 with 0 Axes>"
      ]
     },
     "metadata": {},
     "output_type": "display_data"
    },
    {
     "data": {
      "image/png": "[encoded data removed]",
      "text/plain": [
       "<Figure size 400x400 with 1 Axes>"
      ]
     },
     "metadata": {},
     "output_type": "display_data"
    }
   ],
   "source": [
    "#Getting the probabilities\n",
    "y_proba = clf_rf.predict_proba(X_test_cl)\n",
    "\n",
    "# Getting the probabilities\n",
    "y_prob = y_proba[:, 1]\n",
    "\n",
    "# Calculating the false positive rate and true positive rate\n",
    "fpr, tpr, threshold = roc_curve(y_test_cl, y_prob)\n",
    "\n",
    "# Calculating the AUC score\n",
    "auc = roc_auc_score(y_test_cl, y_prob)\n",
    "\n",
    "\n",
    "# Plotting the ROC curve\n",
    "plt.figure()\n",
    "plt.figure(figsize=(4,4))\n",
    "plt.plot(fpr, tpr, label = 'ROC (Area = {0:.5f})'.format(auc), color = 'green')\n",
    "plt.plot([0, 1], [0, 1], color = 'red', linestyle='--')\n",
    "plt.xlim([0.0, 1.0])\n",
    "plt.ylim([0.0, 1.05])\n",
    "plt.legend(loc = \"lower right\")\n",
    "plt.xlabel('Type I Error')\n",
    "plt.ylabel('1 - Type II Error')\n",
    "plt.title('ROC Curve - RF')\n",
    "\n",
    "\n",
    "print('Area Under Curve (AUC) is', auc)\n",
    "\n",
    "\n"
   ]
  },
  {
   "cell_type": "markdown",
   "id": "717e5fde",
   "metadata": {},
   "source": [
    "1. Logistic Regression"
   ]
  },
  {
   "cell_type": "code",
   "execution_count": 26,
   "id": "90baff30",
   "metadata": {},
   "outputs": [],
   "source": [
    "X_train_cl, X_test_cl, y_train_cl, y_test_cl = train_test_split(X_cl, y_cl,test_size=0.30,random_state=2)\n",
    "clf = LogisticRegression(random_state=1)"
   ]
  },
  {
   "cell_type": "code",
   "execution_count": 27,
   "id": "56e7e97c",
   "metadata": {},
   "outputs": [
    {
     "name": "stderr",
     "output_type": "stream",
     "text": [
      "C:\\Users\\HP\\anaconda3\\lib\\site-packages\\sklearn\\utils\\validation.py:993: DataConversionWarning: A column-vector y was passed when a 1d array was expected. Please change the shape of y to (n_samples, ), for example using ravel().\n",
      "  y = column_or_1d(y, warn=True)\n"
     ]
    }
   ],
   "source": [
    "# train the classifier on the training set\n",
    "clf.fit(X_train_cl, y_train_cl)\n",
    "\n",
    "# predict the labels for the test set\n",
    "y_pred_cl = clf.predict(X_test_cl)"
   ]
  },
  {
   "cell_type": "code",
   "execution_count": 28,
   "id": "1580e1f3",
   "metadata": {},
   "outputs": [
    {
     "name": "stdout",
     "output_type": "stream",
     "text": [
      "Accuracy: 0.9007936507936508\n"
     ]
    }
   ],
   "source": [
    "# evaluate the performance of the classifier\n",
    "score = accuracy_score(y_test_cl, y_pred_cl)\n",
    "print('Accuracy:', score)"
   ]
  },
  {
   "cell_type": "code",
   "execution_count": 29,
   "id": "66c069d7",
   "metadata": {},
   "outputs": [
    {
     "name": "stdout",
     "output_type": "stream",
     "text": [
      "Area Under Curve (AUC) is 0.9660086494422546\n"
     ]
    },
    {
     "data": {
      "text/plain": [
       "<Figure size 640x480 with 0 Axes>"
      ]
     },
     "metadata": {},
     "output_type": "display_data"
    },
    {
     "data": {
      "image/png": "[encoded data removed]",
      "text/plain": [
       "<Figure size 400x400 with 1 Axes>"
      ]
     },
     "metadata": {},
     "output_type": "display_data"
    }
   ],
   "source": [
    "#Getting the probabilities\n",
    "y_proba = clf.predict_proba(X_test_cl)\n",
    "\n",
    "# Getting the probabilities\n",
    "y_prob = y_proba[:, 1]\n",
    "\n",
    "# Calculating the false positive rate and true positive rate\n",
    "fpr, tpr, threshold = roc_curve(y_test_cl, y_prob)\n",
    "\n",
    "# Calculating the AUC score\n",
    "auc = roc_auc_score(y_test_cl, y_prob)\n",
    "\n",
    "\n",
    "# Plotting the ROC curve\n",
    "plt.figure()\n",
    "plt.figure(figsize=(4,4))\n",
    "plt.plot(fpr, tpr, label = 'ROC (Area = {0:.5f})'.format(auc), color = 'green')\n",
    "plt.plot([0, 1], [0, 1], color = 'red', linestyle='--')\n",
    "plt.xlim([0.0, 1.0])\n",
    "plt.ylim([0.0, 1.05])\n",
    "plt.legend(loc = \"lower right\")\n",
    "plt.xlabel('Type I Error')\n",
    "plt.ylabel('1 - Type II Error')\n",
    "plt.title('ROC Curve - LR')\n",
    "\n",
    "\n",
    "print('Area Under Curve (AUC) is', auc)\n",
    "\n",
    "\n"
   ]
  }
 ],
 "metadata": {
  "kernelspec": {
   "display_name": "Python 3 (ipykernel)",
   "language": "python",
   "name": "python3"
  },
  "language_info": {
   "codemirror_mode": {
    "name": "ipython",
    "version": 3
   },
   "file_extension": ".py",
   "mimetype": "text/x-python",
   "name": "python",
   "nbconvert_exporter": "python",
   "pygments_lexer": "ipython3",
   "version": "3.9.13"
  },
  "toc": {
   "base_numbering": 1,
   "nav_menu": {},
   "number_sections": true,
   "sideBar": true,
   "skip_h1_title": false,
   "title_cell": "Table of Contents",
   "title_sidebar": "Contents",
   "toc_cell": false,
   "toc_position": {},
   "toc_section_display": true,
   "toc_window_display": false
  }
 },
 "nbformat": 4,
 "nbformat_minor": 5
}
